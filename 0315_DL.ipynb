{
  "nbformat": 4,
  "nbformat_minor": 0,
  "metadata": {
    "colab": {
      "provenance": [],
      "authorship_tag": "ABX9TyN+nDBS3vvpuFuRK3/s69vl",
      "include_colab_link": true
    },
    "kernelspec": {
      "name": "python3",
      "display_name": "Python 3"
    },
    "language_info": {
      "name": "python"
    }
  },
  "cells": [
    {
      "cell_type": "markdown",
      "metadata": {
        "id": "view-in-github",
        "colab_type": "text"
      },
      "source": [
        "<a href=\"https://colab.research.google.com/github/2023080258/DL23/blob/main/0315_DL.ipynb\" target=\"_parent\"><img src=\"https://colab.research.google.com/assets/colab-badge.svg\" alt=\"Open In Colab\"/></a>"
      ]
    },
    {
      "cell_type": "code",
      "execution_count": null,
      "metadata": {
        "id": "3abcv75DRP8X"
      },
      "outputs": [],
      "source": []
    },
    {
      "cell_type": "markdown",
      "source": [
        "My first coding"
      ],
      "metadata": {
        "id": "bw3_ai5SRTZL"
      }
    },
    {
      "cell_type": "code",
      "source": [
        "#@markdown 🔄 [1] Making functions (sample): tts(text)\n",
        "%%capture\n",
        "!pip install gTTS\n",
        "from gtts import gTTS\n",
        "from IPython.display import Audio\n",
        "\n",
        "def tts(text):\n",
        "  gtts_object = gTTS(text,lang = \"en\", slow = True) \n",
        "  gtts_object.save(\"myaudio.mp3\")\n",
        "  return Audio(\"myaudio.mp3\")"
      ],
      "metadata": {
        "id": "8KOcCvMcRYzc"
      },
      "execution_count": null,
      "outputs": []
    },
    {
      "cell_type": "code",
      "source": [
        "# [2] Try it yourself\n",
        "tts(' pop pop pop')"
      ],
      "metadata": {
        "id": "Mffc7MNMRhRJ"
      },
      "execution_count": null,
      "outputs": []
    }
  ]
}