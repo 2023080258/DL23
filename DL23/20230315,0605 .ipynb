{
  "nbformat": 4,
  "nbformat_minor": 0,
  "metadata": {
    "colab": {
      "provenance": [],
      "authorship_tag": "ABX9TyN766H1kiOV+bYAmxiP2sqY",
      "include_colab_link": true
    },
    "kernelspec": {
      "name": "python3",
      "display_name": "Python 3"
    },
    "language_info": {
      "name": "python"
    }
  },
  "cells": [
    {
      "cell_type": "markdown",
      "metadata": {
        "id": "view-in-github",
        "colab_type": "text"
      },
      "source": [
        "<a href=\"https://colab.research.google.com/github/2023080258/DL23/blob/main/DL23/20230315%2C0605%20.ipynb\" target=\"_parent\"><img src=\"https://colab.research.google.com/assets/colab-badge.svg\" alt=\"Open In Colab\"/></a>"
      ]
    },
    {
      "cell_type": "code",
      "execution_count": null,
      "metadata": {
        "id": "3abcv75DRP8X"
      },
      "outputs": [],
      "source": []
    },
    {
      "cell_type": "markdown",
      "source": [
        "My first coding"
      ],
      "metadata": {
        "id": "bw3_ai5SRTZL"
      }
    },
    {
      "cell_type": "code",
      "source": [
        "#@markdown 🔄 [1] Making functions (sample): tts(text)\n",
        "%%capture\n",
        "!pip install gTTS\n",
        "from gtts import gTTS\n",
        "from IPython.display import Audio\n",
        "\n",
        "def tts(text):\n",
        "  gtts_object = gTTS(text,lang = \"en\", slow = True) \n",
        "  gtts_object.save(\"myaudio.mp3\")\n",
        "  return Audio(\"myaudio.mp3\")"
      ],
      "metadata": {
        "id": "8KOcCvMcRYzc"
      },
      "execution_count": null,
      "outputs": []
    },
    {
      "cell_type": "code",
      "source": [
        "# [2] Try it yourself\n",
        "tts(' pop pop pop')"
      ],
      "metadata": {
        "id": "Mffc7MNMRhRJ"
      },
      "execution_count": null,
      "outputs": []
    },
    {
      "cell_type": "code",
      "source": [
        "class Debate: \n",
        "    def __init__(self, topic):\n",
        "        self.topic = topic\n",
        "        self.opinions = {}\n",
        "    \n",
        "    def add_opinion(self, student, opinion):\n",
        "        self.opinions[student] = opinion\n",
        "    \n",
        "    def vote(self, student, opinion):\n",
        "        if student in self.opinions:\n",
        "            self.opinions[student] = opinion\n",
        "            print(f\"{student} voted: {opinion}\")\n",
        "        else:\n",
        "            print(f\"{student} has not provided an opinion yet.\")\n",
        "    \n",
        "    def print_opinions(self):\n",
        "        print(\"Opinions:\")\n",
        "        for student, opinion in self.opinions.items():\n",
        "            print(f\"{student}: {opinion}\")\n",
        "\n",
        "\n",
        "# 토론 주제 생성\n",
        "topic = \"문화유산 보존의 중요성에 대해 토론합니다.\"\n",
        "debate = Debate(topic)\n",
        "\n",
        "# 학생 의견 추가\n",
        "debate.add_opinion(\"학생1\", \"문화유산 보존은 우리 역사를 이해하는 데 중요합니다.\")\n",
        "debate.add_opinion(\"학생2\", \"문화유산은 미래 세대에게 중요한 가치 전달 수단입니다.\")\n",
        "\n",
        "# 의견 출력\n",
        "debate.print_opinions()\n",
        "\n",
        "# 학생 투표\n",
        "debate.vote(\"학생1\", \"찬성\")\n",
        "debate.vote(\"학생2\", \"반대\")\n"
      ],
      "metadata": {
        "id": "mY3JMDGDnzgl",
        "outputId": "aa002647-daab-4315-9cb1-777181b88840",
        "colab": {
          "base_uri": "https://localhost:8080/"
        }
      },
      "execution_count": 8,
      "outputs": [
        {
          "output_type": "stream",
          "name": "stdout",
          "text": [
            "Opinions:\n",
            "학생1: 문화유산 보존은 우리 역사를 이해하는 데 중요합니다.\n",
            "학생2: 문화유산은 미래 세대에게 중요한 가치 전달 수단입니다.\n",
            "학생1 voted: 찬성\n",
            "학생2 voted: 반대\n"
          ]
        }
      ]
    },
    {
      "cell_type": "code",
      "source": [
        "class Debate: \n",
        "    def __init__(self, topic):\n",
        "        self.topic = topic\n",
        "        self.opinions = {}\n",
        "    \n",
        "    def add_opinion(self, student, opinion):\n",
        "        self.opinions[student] = opinion\n",
        "    \n",
        "    def vote(self, student, opinion):\n",
        "        if student in self.opinions:\n",
        "            self.opinions[student] = opinion\n",
        "            print(f\"{student} voted: {opinion}\")\n",
        "        else:\n",
        "            print(f\"{student} has not provided an opinion yet.\")\n",
        "    \n",
        "    def print_opinions(self):\n",
        "        print(\"Opinions:\")\n",
        "        for student, opinion in self.opinions.items():\n",
        "            print(f\"{student}: {opinion}\")\n"
      ],
      "metadata": {
        "id": "yDlFj4kqptLg"
      },
      "execution_count": 13,
      "outputs": []
    },
    {
      "cell_type": "code",
      "source": [
        "topic = \"문화유산 보존의 중요성에 대해 토론합니다.\"\n",
        "debate = Debate(topic)\n",
        "debate.add_opinion('1', input())\n",
        "debate.add_opinion('2', input())\n",
        "debate.print_opinions()\n",
        "\n",
        "debate.vote(\"학생1\", \"찬성\")\n",
        "debate.vote(\"학생2\", \"반대\")\n"
      ],
      "metadata": {
        "id": "8hcgNILNpvq3",
        "outputId": "a6d51876-c74d-4bdc-bb4c-21d27658790c",
        "colab": {
          "base_uri": "https://localhost:8080/"
        }
      },
      "execution_count": 29,
      "outputs": [
        {
          "output_type": "stream",
          "name": "stdout",
          "text": [
            "ㅇㅇ\n",
            "ㄴㄴ\n",
            "Opinions:\n",
            "1: ㅇㅇ\n",
            "2: ㄴㄴ\n",
            "학생1 has not provided an opinion yet.\n",
            "학생2 has not provided an opinion yet.\n"
          ]
        }
      ]
    },
    {
      "cell_type": "code",
      "source": [
        "class Debate:\n",
        "    def __init__(self, topic):\n",
        "        self.topic = topic\n",
        "        self.opinions = {}\n",
        "    \n",
        "    def add_opinion(self, student, opinion):\n",
        "        self.opinions[student] = opinion\n",
        "    \n",
        "    def vote(self, student, opinion):\n",
        "        if student in self.opinions:\n",
        "            self.opinions[student] = opinion\n",
        "            print(f\"{student} voted: {opinion}\")\n",
        "        else:\n",
        "            print(f\"{student} has not provided an opinion yet.\")\n",
        "    \n",
        "    def print_opinions(self):\n",
        "        print(\"Opinions:\")\n",
        "        for student, opinion in self.opinions.items():\n",
        "            print(f\"{student}: {opinion}\")\n",
        "\n",
        "\n",
        "topic = \"문화유산 보존의 중요성에 대해 토론합니다.\"\n",
        "debate = Debate(topic)\n",
        "print(topic)\n",
        "\n",
        "num_students = int(input(\"참여하는 학생의 수를 입력하세요: \"))\n",
        "\n",
        "for i in range(num_students):\n",
        "    student_name = input(f\"학생 {i+1}의 이름을 입력하세요: \")\n",
        "    opinion = input(f\"{student_name}의 의견을 입력하세요: \")\n",
        "    debate.add_opinion(student_name, opinion)\n",
        "\n",
        "# 의견 출력\n",
        "debate.print_opinions()\n",
        "\n"
      ],
      "metadata": {
        "id": "b8Jh-MEjsHDS",
        "outputId": "5840ab24-e36b-4433-be82-ffb4048dac38",
        "colab": {
          "base_uri": "https://localhost:8080/"
        }
      },
      "execution_count": 37,
      "outputs": [
        {
          "output_type": "stream",
          "name": "stdout",
          "text": [
            "문화유산 보존의 중요성에 대해 토론합니다.\n",
            "참여하는 학생의 수를 입력하세요: 1\n",
            "학생 1의 이름을 입력하세요: 1\n",
            "1의 의견을 입력하세요: 22\n",
            "Opinions:\n",
            "1: 22\n",
            "1 voted: 찬성\n",
            "2 has not provided an opinion yet.\n",
            "3 has not provided an opinion yet.\n"
          ]
        }
      ]
    },
    {
      "cell_type": "code",
      "source": [
        "class Debate:\n",
        "    def __init__(self, topic):\n",
        "        self.topic = topic\n",
        "        self.opinions = {}\n",
        "    \n",
        "    def add_opinion(self, student, opinion):\n",
        "        self.opinions[student] = opinion\n",
        "    \n",
        "    def vote(self, student, opinion):\n",
        "        if student in self.opinions:\n",
        "            self.opinions[student] = opinion\n",
        "            print(f\"{student} voted: {opinion}\")\n",
        "        else:\n",
        "            print(f\"{student} has not provided an opinion yet.\")\n",
        "    \n",
        "    def print_opinions(self):\n",
        "        print(\"Opinions:\")\n",
        "        for student, opinion in self.opinions.items():\n",
        "            print(f\"{student}: {opinion}\")\n",
        "    \n",
        "    def ask_question(self, question):\n",
        "        if question == \"토론 주제는 무엇인가요?\":\n",
        "            return self.topic\n",
        "        elif question == \"의견을 추가한 학생은 몇 명인가요?\":\n",
        "            return len(self.opinions)\n",
        "        elif question == \"학생들의 의견은 무엇인가요?\":\n",
        "            return self.opinions\n",
        "        else:\n",
        "            return \"질문에 대한 답변을 찾을 수 없습니다.\"\n",
        "\n",
        "\n",
        "topic = \"문화유산 보존의 중요성에 대해 토론합니다.\"\n",
        "debate = Debate(topic)\n",
        "\n",
        "# 학생들의 의견 추가\n",
        "debate.add_opinion(\"학생1\", \"문화유산 보존은 우리 역사를 이해하는 데 중요합니다.\")\n",
        "debate.add_opinion(\"학생2\", \"문화유산은 미래 세대에게 중요한 가치 전달 수단입니다.\")\n",
        "debate.add_opinion(\"학생3\", \"문화유산 보존은 우리 정체성을 지키는 데 중요합니다.\")\n",
        "\n",
        "# 의견 출력\n",
        "debate.print_opinions()\n",
        "\n",
        "# 질문에 대한 답변 출력\n",
        "print(debate.ask_question(\"토론 주제는 무엇인가요?\"))\n",
        "print(debate.ask_question(\"의견을 추가한 학생은 몇 명인가요?\"))\n",
        "print(debate.ask_question(\"학생들의 의견은 무엇인가요?\"))\n",
        "print(debate.ask_question(\"문화유산 보존의 영향은 무엇인가요?\"))\n"
      ],
      "metadata": {
        "id": "NACjF-x4tp-w",
        "outputId": "87bf83cb-651a-4792-dd78-083378f462da",
        "colab": {
          "base_uri": "https://localhost:8080/"
        }
      },
      "execution_count": 38,
      "outputs": [
        {
          "output_type": "stream",
          "name": "stdout",
          "text": [
            "Opinions:\n",
            "학생1: 문화유산 보존은 우리 역사를 이해하는 데 중요합니다.\n",
            "학생2: 문화유산은 미래 세대에게 중요한 가치 전달 수단입니다.\n",
            "학생3: 문화유산 보존은 우리 정체성을 지키는 데 중요합니다.\n",
            "문화유산 보존의 중요성에 대해 토론합니다.\n",
            "3\n",
            "{'학생1': '문화유산 보존은 우리 역사를 이해하는 데 중요합니다.', '학생2': '문화유산은 미래 세대에게 중요한 가치 전달 수단입니다.', '학생3': '문화유산 보존은 우리 정체성을 지키는 데 중요합니다.'}\n",
            "질문에 대한 답변을 찾을 수 없습니다.\n"
          ]
        }
      ]
    },
    {
      "cell_type": "code",
      "source": [
        "class Debate:\n",
        "    def __init__(self, topics):\n",
        "        self.topics = topics\n",
        "        self.opinions = {topic: {} for topic in topics}\n",
        "    \n",
        "    def add_opinion(self, topic, student, opinion):\n",
        "        self.opinions[topic][student] = opinion\n",
        "    \n",
        "    def print_opinions(self):\n",
        "        for topic, opinions in self.opinions.items():\n",
        "            print(f\"Topic: {topic}\")\n",
        "            print(\"Opinions:\")\n",
        "            for student, opinion in opinions.items():\n",
        "                print(f\"{student}: {opinion}\")\n",
        "            print()\n",
        "    \n",
        "    def ask_question(self, topic):\n",
        "        student = input(\"학생 이름을 입력하세요: \")\n",
        "        opinion = input(f\"{student}, {topic}에 대한 의견을 입력하세요: \")\n",
        "        self.add_opinion(topic, student, opinion)\n",
        "        print(\"의견이 성공적으로 추가되었습니다.\")\n",
        "\n",
        "\n",
        "topics = [\"환경문제에 대해 토론합니다.\", \"인구문제에 대해 토론합니다.\", \"출산문제에 대해 토론합니다.\"]\n",
        "debate = Debate(topics)\n",
        "\n",
        "for topic in topics:\n",
        "    debate.ask_question(topic)\n",
        "\n",
        "debate.print_opinions()\n"
      ],
      "metadata": {
        "id": "IncV3E3IvjJr",
        "outputId": "c1c40c2d-4260-45cb-a468-ce0beb7d9042",
        "colab": {
          "base_uri": "https://localhost:8080/"
        }
      },
      "execution_count": 41,
      "outputs": [
        {
          "output_type": "stream",
          "name": "stdout",
          "text": [
            "학생 이름을 입력하세요: 민혁\n",
            "민혁, 환경문제에 대해 토론합니다.에 대한 의견을 입력하세요: 좋아요\n",
            "의견이 성공적으로 추가되었습니다.\n",
            "학생 이름을 입력하세요: 민혁\n",
            "민혁, 인구문제에 대해 토론합니다.에 대한 의견을 입력하세요: 좋아오ㅛ\n",
            "의견이 성공적으로 추가되었습니다.\n",
            "학생 이름을 입력하세요: 시러\n",
            "시러, 출산문제에 대해 토론합니다.에 대한 의견을 입력하세요: 시러요\n",
            "의견이 성공적으로 추가되었습니다.\n",
            "Topic: 환경문제에 대해 토론합니다.\n",
            "Opinions:\n",
            "민혁: 좋아요\n",
            "\n",
            "Topic: 인구문제에 대해 토론합니다.\n",
            "Opinions:\n",
            "민혁: 좋아오ㅛ\n",
            "\n",
            "Topic: 출산문제에 대해 토론합니다.\n",
            "Opinions:\n",
            "시러: 시러요\n",
            "\n"
          ]
        }
      ]
    },
    {
      "cell_type": "code",
      "source": [
        "class Debate:\n",
        "    def __init__(self, questions):\n",
        "        self.questions = questions\n",
        "        self.answers = []\n",
        "    \n",
        "    def add_answer(self, answer):\n",
        "        self.answers.append(answer)\n",
        "    \n",
        "    def print_answers(self):\n",
        "        for i, question in enumerate(self.questions):\n",
        "            print(f\"Question {i+1}: {question}\")\n",
        "            print(f\"Answer: {self.answers[i]}\")\n",
        "            print()\n",
        "    \n",
        "    def ask_questions(self):\n",
        "        for question in self.questions:\n",
        "            answer = input(f\"{question}: \")\n",
        "            self.add_answer(answer)\n",
        "            print(\"Answer submitted successfully.\")\n",
        "\n",
        "\n",
        "questions = [\n",
        "    \"환경문제에 대해 어떻게 생각하시나요?\",\n",
        "    \"인구문제에 대해 어떻게 생각하시나요?\",\n",
        "    \"출산문제에 대해 어떻게 생각하시나요?\"\n",
        "]\n",
        "debate = Debate(questions)\n",
        "\n",
        "debate.ask_questions()\n",
        "\n",
        "debate.print_answers()\n"
      ],
      "metadata": {
        "id": "DilUz_cdA11a",
        "outputId": "38dd78d5-d0dc-48d2-baff-e41fed5adfae",
        "colab": {
          "base_uri": "https://localhost:8080/"
        }
      },
      "execution_count": 1,
      "outputs": [
        {
          "output_type": "stream",
          "name": "stdout",
          "text": [
            "환경문제에 대해 어떻게 생각하시나요?: 몰라요\n",
            "Answer submitted successfully.\n",
            "인구문제에 대해 어떻게 생각하시나요?: 알아요\n",
            "Answer submitted successfully.\n",
            "출산문제에 대해 어떻게 생각하시나요?: 이밤이 흐르고 흐르면\n",
            "Answer submitted successfully.\n",
            "Question 1: 환경문제에 대해 어떻게 생각하시나요?\n",
            "Answer: 몰라요\n",
            "\n",
            "Question 2: 인구문제에 대해 어떻게 생각하시나요?\n",
            "Answer: 알아요\n",
            "\n",
            "Question 3: 출산문제에 대해 어떻게 생각하시나요?\n",
            "Answer: 이밤이 흐르고 흐르면\n",
            "\n"
          ]
        }
      ]
    },
    {
      "cell_type": "code",
      "source": [
        "class Debate:\n",
        "    def __init__(self, questions):\n",
        "        self.questions = questions\n",
        "        self.answers = []\n",
        "    \n",
        "    def add_answer(self, answer):\n",
        "        self.answers.append(answer)\n",
        "    \n",
        "    def print_answers(self):\n",
        "        for i, question in enumerate(self.questions):\n",
        "            print(f\"Question {i+1}: {question}\")\n",
        "            print(f\"Answer: {self.answers[i]}\")\n",
        "            print()\n",
        "    \n",
        "    def ask_questions(self):\n",
        "        for question in self.questions:\n",
        "            answer = input(f\"{question}: \")\n",
        "            self.add_answer(answer)\n",
        "\n",
        "\n",
        "questions = [\n",
        "    \"환경문제에 대해 어떻게 생각하시나요?\",\n",
        "    \"인구문제에 대해 어떻게 생각하시나요?\",\n",
        "    \"출산문제에 대해 어떻게 생각하시나요?\"\n",
        "]\n",
        "debate = Debate(questions)\n",
        "\n",
        "debate.ask_questions()\n",
        "\n",
        "debate.print_answers()\n"
      ],
      "metadata": {
        "id": "7766ARTsBM_b",
        "outputId": "7e30538d-8171-4905-a1e5-8c5bdb8f0dc7",
        "colab": {
          "base_uri": "https://localhost:8080/"
        }
      },
      "execution_count": 2,
      "outputs": [
        {
          "output_type": "stream",
          "name": "stdout",
          "text": [
            "환경문제에 대해 어떻게 생각하시나요?: 1\n",
            "인구문제에 대해 어떻게 생각하시나요?: 2\n",
            "출산문제에 대해 어떻게 생각하시나요?: 3\n",
            "Question 1: 환경문제에 대해 어떻게 생각하시나요?\n",
            "Answer: 1\n",
            "\n",
            "Question 2: 인구문제에 대해 어떻게 생각하시나요?\n",
            "Answer: 2\n",
            "\n",
            "Question 3: 출산문제에 대해 어떻게 생각하시나요?\n",
            "Answer: 3\n",
            "\n"
          ]
        }
      ]
    },
    {
      "cell_type": "code",
      "source": [
        "class Debate:\n",
        "    def __init__(self, questions):\n",
        "        self.questions = questions\n",
        "        self.answers = []\n",
        "    \n",
        "    def add_answer(self, answer):\n",
        "        self.answers.append(answer)\n",
        "    \n",
        "    def print_answers(self):\n",
        "        for i, question in enumerate(self.questions):\n",
        "            print(f\"Question {i+1}: {question}\")\n",
        "            print(f\"Answer: {self.answers[i]}\")\n",
        "            print()\n",
        "    \n",
        "    def ask_questions(self):\n",
        "        for question in self.questions:\n",
        "            answer = input(f\"{question}: \")\n",
        "            self.add_answer(answer)\n",
        "\n",
        "\n",
        "questions = [\n",
        "    \"환경문제에 대해 어떻게 생각하시나요?\",\n",
        "    \"인구문제에 대해 어떻게 생각하시나요?\",\n",
        "    \"출산문제에 대해 어떻게 생각하시나요?\"\n",
        "]\n",
        "debate = Debate(questions)\n",
        "\n",
        "print(\"질문에 답변해주세요.\")\n",
        "\n",
        "debate.ask_questions()\n",
        "\n",
        "print(\"토론이 종료되었습니다.\")\n",
        "\n",
        "debate.print_answers()\n"
      ],
      "metadata": {
        "id": "DafSzR8OB8Y2",
        "outputId": "f5594a41-0499-4cd5-961c-766ea6ef0d63",
        "colab": {
          "base_uri": "https://localhost:8080/"
        }
      },
      "execution_count": 4,
      "outputs": [
        {
          "output_type": "stream",
          "name": "stdout",
          "text": [
            "질문에 답변해주세요.\n",
            "환경문제에 대해 어떻게 생각하시나요?: 1\n",
            "인구문제에 대해 어떻게 생각하시나요?: 2\n",
            "출산문제에 대해 어떻게 생각하시나요?: 3\n",
            "토론이 종료되었습니다.\n",
            "Question 1: 환경문제에 대해 어떻게 생각하시나요?\n",
            "Answer: 1\n",
            "\n",
            "Question 2: 인구문제에 대해 어떻게 생각하시나요?\n",
            "Answer: 2\n",
            "\n",
            "Question 3: 출산문제에 대해 어떻게 생각하시나요?\n",
            "Answer: 3\n",
            "\n"
          ]
        }
      ]
    },
    {
      "cell_type": "code",
      "source": [
        "class Debate:\n",
        "    def __init__(self, questions):\n",
        "        self.questions = questions\n",
        "        self.answers = []\n",
        "    \n",
        "    def add_answer(self, answer):\n",
        "        self.answers.append(answer)\n",
        "    \n",
        "    def print_answers(self):\n",
        "        for i, question in enumerate(self.questions):\n",
        "            print(f\"Question {i+1}: {question}\")\n",
        "            print(f\"Answer: {self.answers[i]}\")\n",
        "            print()\n",
        "    \n",
        "    def ask_questions(self):\n",
        "        for question in self.questions:\n",
        "            answer = input(f\"{question}: \")\n",
        "            self.add_answer(answer)\n",
        "\n",
        "\n",
        "questions = [\n",
        "    \"Why is it important to preserve cultural heritage?\",\n",
        "    \"How does cultural heritage contribute to our understanding of history and sense of identity?\",\n",
        "    \"Can you think of other examples where conservation science has been successful in preserving cultural heritage?\"\n",
        "]\n",
        "debate = Debate(questions)\n",
        "\n",
        "print(\"please answer the questions.\")\n",
        "\n",
        "debate.ask_questions()\n",
        "\n",
        "print(\"                              \")\n",
        "\n",
        "debate.print_answers()  \n"
      ],
      "metadata": {
        "id": "wn4lAgVYCRP2",
        "outputId": "47cdffc1-6298-4367-c61b-4c369de17d90",
        "colab": {
          "base_uri": "https://localhost:8080/"
        }
      },
      "execution_count": 10,
      "outputs": [
        {
          "output_type": "stream",
          "name": "stdout",
          "text": [
            "please answer the questions.\n",
            "Why is it important to preserve cultural heritage?: \n",
            "How does cultural heritage contribute to our understanding of history and sense of identity?: \n",
            "Can you think of other examples where conservation science has been successful in preserving cultural heritage?: \n",
            "                              \n",
            "Question 1: Why is it important to preserve cultural heritage?\n",
            "Answer: \n",
            "\n",
            "Question 2: How does cultural heritage contribute to our understanding of history and sense of identity?\n",
            "Answer: \n",
            "\n",
            "Question 3: Can you think of other examples where conservation science has been successful in preserving cultural heritage?\n",
            "Answer: \n",
            "\n"
          ]
        }
      ]
    },
    {
      "cell_type": "code",
      "source": [],
      "metadata": {
        "id": "lxsAyozaCsdV"
      },
      "execution_count": null,
      "outputs": []
    }
  ]
}